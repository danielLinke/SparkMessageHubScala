{
 "cells": [
  {
   "cell_type": "markdown",
   "metadata": {},
   "source": [
    "Run the following cell to send some data to your Message Hub instance.\n",
    "\n",
    "The send_message.py script below uses the credentials you saved in Step 1 in the file **vcap.json** to communicate with your Message Hub instance."
   ]
  },
  {
   "cell_type": "code",
   "execution_count": 9,
   "metadata": {
    "collapsed": false
   },
   "outputs": [
    {
     "name": "stdout",
     "output_type": "stream",
     "text": [
      "('topic', u'mytopic')\n",
      "('partition', 0)\n",
      "('offset', 30)\n"
     ]
    }
   ],
   "source": [
    "%%bash\n",
    "\n",
    "# we use the kafka python library for sending test messages\n",
    "# check that it is available.  if it isn't available, install it\n",
    "python -c 'import kafka' || pip install kafka-python --user\n",
    "\n",
    "# send the test message '123'\n",
    "python ./SparkMessageHubScala/send_message.py 123"
   ]
  }
 ],
 "metadata": {
  "kernelspec": {
   "display_name": "Python 2 with Spark 1.6",
   "language": "python",
   "name": "python2"
  },
  "language_info": {
   "codemirror_mode": {
    "name": "ipython",
    "version": 2
   },
   "file_extension": ".py",
   "mimetype": "text/x-python",
   "name": "python",
   "nbconvert_exporter": "python",
   "pygments_lexer": "ipython2",
   "version": "2.7.11"
  }
 },
 "nbformat": 4,
 "nbformat_minor": 0
}