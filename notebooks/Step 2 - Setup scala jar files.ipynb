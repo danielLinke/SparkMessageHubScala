{
 "cells": [
  {
   "cell_type": "markdown",
   "metadata": {},
   "source": [
    "Run the cell below to checkout the github project containing utility classes for connecting to Message Hub.\n",
    "\n",
    "The cell compiles the github project and copies the resulting in jar files to a location where DSX is able to use them.\n",
    "\n",
    "**After running the cell below, ensure you restart your kernel.**"
   ]
  },
  {
   "cell_type": "code",
   "execution_count": 8,
   "metadata": {
    "collapsed": false
   },
   "outputs": [
    {
     "name": "stdout",
     "output_type": "stream",
     "text": [
      "Already up-to-date.\n",
      "‘libs/messagehub.login-1.0.0.jar’ -> ‘/gpfs/fs01/user/sa4c-d959cc4450093e-39ca506ba762/data/libs/messagehub.login-1.0.0.jar’\n",
      "‘build/libs/SparkMessageHubScala-all.jar’ -> ‘/gpfs/fs01/user/sa4c-d959cc4450093e-39ca506ba762/data/libs/SparkMessageHubScala-all.jar’\n"
     ]
    }
   ],
   "source": [
    "%%bash\n",
    "\n",
    "# stop immediately if an error is encountered\n",
    "set -e\n",
    "\n",
    "# check out the scala messagehub utility code\n",
    "if [[ ! -d SparkMessageHubScala/ ]]\n",
    "then\n",
    "  git clone https://github.com/snowch/SparkMessageHubScala.git\n",
    "fi\n",
    "\n",
    "cd SparkMessageHubScala/\n",
    "\n",
    "# retrieve the latest changes\n",
    "git pull\n",
    "\n",
    "# build the scala code and create a jar file\n",
    "./gradlew -q clean shadowJar\n",
    "\n",
    "# copy the jar files to a location where dsx can find them\n",
    "cp -fv libs/messagehub.login-1.0.0.jar ${HOME}/data/libs/\n",
    "cp -fv build/libs/SparkMessageHubScala-all.jar ${HOME}/data/libs/"
   ]
  },
  {
   "cell_type": "markdown",
   "metadata": {},
   "source": [
    "### Now restart the kernel!!!"
   ]
  }
 ],
 "metadata": {
  "kernelspec": {
   "display_name": "Python 2 with Spark 1.6",
   "language": "python",
   "name": "python2"
  },
  "language_info": {
   "codemirror_mode": {
    "name": "ipython",
    "version": 2
   },
   "file_extension": ".py",
   "mimetype": "text/x-python",
   "name": "python",
   "nbconvert_exporter": "python",
   "pygments_lexer": "ipython2",
   "version": "2.7.11"
  }
 },
 "nbformat": 4,
 "nbformat_minor": 0
}