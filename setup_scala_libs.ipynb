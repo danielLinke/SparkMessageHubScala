{
 "cells": [
  {
   "cell_type": "code",
   "execution_count": null,
   "metadata": {
    "collapsed": false
   },
   "outputs": [],
   "source": [
    "! rm -rf SparkMessageHubScala/\n",
    "! git clone https://github.com/snowch/SparkMessageHubScala.git\n",
    "! cd SparkMessageHubScala/ && ./gradlew -q shadowJar\n",
    "! find SparkMessageHubScala -name *.jar"
   ]
  },
  {
   "cell_type": "code",
   "execution_count": null,
   "metadata": {
    "collapsed": false
   },
   "outputs": [],
   "source": [
    "! cp SparkMessageHubScala/libs/messagehub.login-1.0.0.jar ${HOME}/data/libs/\n",
    "! cp SparkMessageHubScala/build/libs/SparkMessageHubScala-all.jar ${HOME}/data/libs/"
   ]
  },
  {
   "cell_type": "code",
   "execution_count": null,
   "metadata": {
    "collapsed": false
   },
   "outputs": [],
   "source": [
    "! pip install kafka-python"
   ]
  },
  {
   "cell_type": "code",
   "execution_count": null,
   "metadata": {
    "collapsed": false
   },
   "outputs": [],
   "source": [
    "%%bash\n",
    "cat << EOF > vcap.json\n",
    "{\n",
    "  \"kafka_brokers_sasl\": [\n",
    "    \"kafka05-prod01.messagehub.services.us-south.bluemix.net:9093\",\n",
    "    \"kafka03-prod01.messagehub.services.us-south.bluemix.net:9093\",\n",
    "    \"kafka04-prod01.messagehub.services.us-south.bluemix.net:9093\",\n",
    "    \"kafka01-prod01.messagehub.services.us-south.bluemix.net:9093\",\n",
    "    \"kafka02-prod01.messagehub.services.us-south.bluemix.net:9093\"\n",
    "  ],\n",
    "  \"user\": \"changeme\",\n",
    "  \"password\": \"changeme\",\n",
    "  \"topic\": \"mytopic\"\n",
    "}\n",
    "EOF"
   ]
  },
  {
   "cell_type": "code",
   "execution_count": 4,
   "metadata": {
    "collapsed": false
   },
   "outputs": [
    {
     "name": "stdout",
     "output_type": "stream",
     "text": [
      "('topic', u'mytopic')\r\n",
      "('partition', 0)\r\n",
      "('offset', 26)\r\n"
     ]
    }
   ],
   "source": [
    "! python ./SparkMessageHubScala/send_message.py 123"
   ]
  },
  {
   "cell_type": "markdown",
   "metadata": {},
   "source": [
    "### Now restart the kernel!!!"
   ]
  }
 ],
 "metadata": {
  "kernelspec": {
   "display_name": "Python 2 with Spark 1.6",
   "language": "python",
   "name": "python2"
  },
  "language_info": {
   "codemirror_mode": {
    "name": "ipython",
    "version": 2
   },
   "file_extension": ".py",
   "mimetype": "text/x-python",
   "name": "python",
   "nbconvert_exporter": "python",
   "pygments_lexer": "ipython2",
   "version": "2.7.11"
  }
 },
 "nbformat": 4,
 "nbformat_minor": 0
}
